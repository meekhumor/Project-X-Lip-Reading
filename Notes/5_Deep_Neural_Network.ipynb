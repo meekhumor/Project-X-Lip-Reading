{
 "cells": [
  {
   "cell_type": "markdown",
   "metadata": {},
   "source": [
    "## Deep Neural Networks\n",
    "\n",
    "- A deep neural network is a type of machine learning model that is more complex than a simple logistic regression or a neural network with just one hidden layer.\n",
    "- It consists of multiple hidden layers, which makes it a \"deep\" model.\n",
    "\n",
    "### 1. Forward Propagation \n",
    "\n",
    "- Forward propagation is the process of passing input data through the neural network to compute the output. \n",
    "\n",
    "### 2. Matrix Dimension\n",
    "\n",
    "- The dimensions of the weight matrix (W) for each layer depend on the number of units in the current layer and the previous layer.\n",
    "```\n",
    "For example,\n",
    "The input layer has 2 features, and the hidden layers have 3, 5, 4, and 2 units respectively. The output layer has 1 unit.\n",
    "```\n",
    "*The weight matrix for the first hidden layer (Layer 1) will be 3x2, because it needs to transform a 2-dimensional input into a 3-dimensional output.*\n",
    "\n"
   ]
  }
 ],
 "metadata": {
  "language_info": {
   "name": "python"
  }
 },
 "nbformat": 4,
 "nbformat_minor": 2
}
