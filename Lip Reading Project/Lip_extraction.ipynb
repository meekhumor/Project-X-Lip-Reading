{
 "cells": [
  {
   "cell_type": "code",
   "execution_count": 1,
   "metadata": {},
   "outputs": [],
   "source": [
    "import numpy as np\n",
    "import cv2\n",
    "import matplotlib.pyplot as plt\n",
    "import os\n",
    "import imutils\n",
    "from imutils import face_utils\n",
    "import dlib"
   ]
  },
  {
   "cell_type": "code",
   "execution_count": 4,
   "metadata": {},
   "outputs": [
    {
     "data": {
      "image/png": "[encoded data removed]",
      "text/plain": [
       "<Figure size 800x600 with 1 Axes>"
      ]
     },
     "metadata": {},
     "output_type": "display_data"
    }
   ],
   "source": [
    "def lips_extractor(img):\n",
    "\n",
    "    predictor = dlib.shape_predictor('shape_predictor_68_face_landmarks.dat')\n",
    "    image = cv2.imread(img)\n",
    "    gray = cv2.cvtColor(image, cv2.COLOR_BGR2GRAY)\n",
    "    bbox = dlib.rectangle(0, 0, gray.shape[1], gray.shape[0])\n",
    "\n",
    "    face_landmarks = predictor(gray, bbox)\n",
    "    face_landmarks = face_utils.shape_to_np(face_landmarks)\n",
    "\n",
    "    for (region,(i,j)) in face_utils.FACIAL_LANDMARKS_IDXS.items():\n",
    "        if region=='mouth':\n",
    "            for (x, y) in face_landmarks[i:j]:\n",
    "                (x, y, w, h) = cv2.boundingRect(np.array([face_landmarks[i:j]]))\n",
    "                lip_image = gray[y:y + h, x:x + w]\n",
    "\n",
    "    if len(lip_image) == 0:\n",
    "        print(\"No lips detected.\")\n",
    "        return None\n",
    "    else:\n",
    "        return lip_image\n",
    "\n",
    "# Test lips extractor\n",
    "lips_image = lips_extractor('Dataset\\F07\\phrases\\\\02\\\\01\\color_002.jpg')\n",
    "if lips_image is None:\n",
    "    print(\"Error: No cropped image provided.\")\n",
    "else:\n",
    "        plt.figure(figsize=(8, 6))\n",
    "        plt.imshow(cv2.cvtColor(lips_image, cv2.COLOR_BGR2RGB))\n",
    "        plt.axis('off')\n",
    "        plt.show()"
   ]
  },
  {
   "cell_type": "code",
   "execution_count": null,
   "metadata": {},
   "outputs": [],
   "source": [
    "for f in os.listdir('dataset/dataset'):\n",
    "    f_path = os.path.join('dataset/dataset', f)\n",
    "    if os.path.isdir(f_path):\n",
    "        for l in os.listdir(f_path):\n",
    "            l_path = os.path.join(f_path, l)\n",
    "            if os.path.isdir(l_path):\n",
    "                for w in os.listdir(l_path):\n",
    "                    w_path = os.path.join(l_path, w)\n",
    "                    if os.path.isdir(w_path):\n",
    "                        for p in os.listdir(w_path):\n",
    "                            p_path = os.path.join(w_path, p)\n",
    "                            if os.path.isdir(p_path):\n",
    "                                for fname in os.listdir(p_path):\n",
    "                                    if not os.path.isdir(fname):\n",
    "                                        image_path = os.path.join(p_path, fname)\n",
    "                                        cropped_lip = lips_extractor(image_path)\n",
    "                                        if cropped_lip is not None:\n",
    "                                            cv2.imwrite(image_path, cropped_lip)"
   ]
  }
 ],
 "metadata": {
  "kernelspec": {
   "display_name": "base",
   "language": "python",
   "name": "python3"
  },
  "language_info": {
   "codemirror_mode": {
    "name": "ipython",
    "version": 3
   },
   "file_extension": ".py",
   "mimetype": "text/x-python",
   "name": "python",
   "nbconvert_exporter": "python",
   "pygments_lexer": "ipython3",
   "version": "3.11.7"
  }
 },
 "nbformat": 4,
 "nbformat_minor": 2
}
